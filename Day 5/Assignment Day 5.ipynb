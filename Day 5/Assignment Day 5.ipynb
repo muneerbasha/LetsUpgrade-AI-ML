{
 "cells": [
  {
   "cell_type": "markdown",
   "metadata": {},
   "source": [
    "# Assignment Day 5 | 10th July 2020"
   ]
  },
  {
   "cell_type": "markdown",
   "metadata": {},
   "source": [
    "Question 1 :\n",
    "\n",
    "Write a Python program to find the first 20 non-even prime natural numbers."
   ]
  },
  {
   "cell_type": "code",
   "execution_count": 1,
   "metadata": {},
   "outputs": [],
   "source": [
    "from sympy import isprime"
   ]
  },
  {
   "cell_type": "code",
   "execution_count": 11,
   "metadata": {},
   "outputs": [
    {
     "name": "stdout",
     "output_type": "stream",
     "text": [
      "3\n",
      "5\n",
      "7\n",
      "11\n",
      "13\n",
      "17\n",
      "19\n",
      "23\n",
      "29\n",
      "31\n",
      "37\n",
      "41\n",
      "43\n",
      "47\n",
      "53\n",
      "59\n",
      "61\n",
      "67\n",
      "71\n",
      "73\n"
     ]
    }
   ],
   "source": [
    "count = 0 \n",
    "for i in range(100):\n",
    "    if(isprime(i) and count <20):\n",
    "        if i % 2 != 0:\n",
    "            print(i)\n",
    "            count += 1"
   ]
  },
  {
   "cell_type": "markdown",
   "metadata": {},
   "source": [
    "Question 2 :\n",
    "\n",
    "Write a Python program to implement 15 functions of string."
   ]
  },
  {
   "cell_type": "code",
   "execution_count": 12,
   "metadata": {},
   "outputs": [
    {
     "name": "stdout",
     "output_type": "stream",
     "text": [
      "muneer Basha\n",
      "\n",
      "1 access characters in a string\n",
      "str[0] =  m\n",
      "str[-1] =  a\n",
      "str[1:5] =  unee\n",
      "str[5:-2] =  r Bas\n",
      "\n",
      "2 Concatenation of Two or More Strings\n",
      "str1 + str2 =  HelloWorld!\n",
      "str1 * 3 = HelloHelloHello\n",
      "\n",
      "3 Iterating Through a string\n",
      "2 letters found\n",
      "\n",
      " 4 String Membership Test:\n"
     ]
    },
    {
     "data": {
      "text/plain": [
       "True"
      ]
     },
     "execution_count": 12,
     "metadata": {},
     "output_type": "execute_result"
    }
   ],
   "source": [
    "myName = \"muneer Basha\"\n",
    "print(myName)\n",
    "\n",
    "# 1 access characters in a string\n",
    "print(\"\\n1 access characters in a string\")\n",
    "#first character\n",
    "print('str[0] = ', myName[0])\n",
    "\n",
    "#last character\n",
    "print('str[-1] = ', myName[-1])\n",
    "\n",
    "#slicing 2nd to 5th character\n",
    "print('str[1:5] = ', myName[1:5])\n",
    "\n",
    "#slicing 6th to 2nd last character\n",
    "print('str[5:-2] = ', myName[5:-2])\n",
    "\n",
    "# 2 Concatenation of Two or More Strings\n",
    "print(\"\\n2 Concatenation of Two or More Strings\")\n",
    "# Python String Operations\n",
    "str1 = 'Hello'\n",
    "str2 ='World!'\n",
    "\n",
    "# using +\n",
    "print('str1 + str2 = ', str1 + str2)\n",
    "\n",
    "# using *\n",
    "print('str1 * 3 =', str1 * 3)\n",
    "\n",
    "# 3 Iterating Through a string\n",
    "print(\"\\n3 Iterating Through a string\")\n",
    "count = 0\n",
    "for letter in \"muneer Basha\":\n",
    "    if (letter == 'a'):\n",
    "        count += 1\n",
    "print(count, 'letters found')  \n",
    "\n",
    "# 4 String Membership Test\n",
    "print(\"\\n 4 String Membership Test:\")\n",
    "'a' in 'muneer Basha'"
   ]
  },
  {
   "cell_type": "code",
   "execution_count": 13,
   "metadata": {},
   "outputs": [
    {
     "name": "stdout",
     "output_type": "stream",
     "text": [
      "\n",
      "5 length of a string:\n",
      "12\n",
      "\n",
      "6 Capitalizes the first letter of a string. \n",
      "Muneer basha\n",
      "\n",
      "7 It returns true if a string contains only digits, and false otherwise.\n",
      "\n",
      "8 It converts lowercase letters in a string to uppercase.\n",
      "MUNEER BASHA\n",
      "\n",
      "9 It converts uppercase letters in a string to lowercase. \n",
      "muneer basha\n",
      "\n",
      "10 It returns true if a string has at least one character and all characters are alphabetic, and false otherwise.\n",
      "False\n",
      "\n",
      "11 isalnum() doesn't take any parameters\n",
      "False\n",
      "\n",
      "12 Returns a character which is alphabetically the highest character in the string.\n",
      "u\n",
      "\n",
      "13 replace a word\n"
     ]
    },
    {
     "data": {
      "text/plain": [
       "'Brilliant New year'"
      ]
     },
     "execution_count": 13,
     "metadata": {},
     "output_type": "execute_result"
    }
   ],
   "source": [
    "# 5 lenght of string\n",
    "print(\"\\n5 length of a string:\")\n",
    "print(len(myName))\n",
    "\n",
    "#6 Capitalizes the first letter of a string.\n",
    "print(\"\\n6 Capitalizes the first letter of a string. \")\n",
    "print(myName.capitalize())\n",
    "\n",
    "#7 It returns true if a string contains only digits, and false otherwise.\n",
    "print(\"\\n7 It returns true if a string contains only digits, and false otherwise.\")\n",
    "myName.isdigit()\n",
    "\n",
    "# 8 It converts lowercase letters in a string to uppercase.\n",
    "print(\"\\n8 It converts lowercase letters in a string to uppercase.\")\n",
    "print(myName.upper())\n",
    "\n",
    "#9 It converts uppercase letters in a string to lowercase.\n",
    "print(\"\\n9 It converts uppercase letters in a string to lowercase. \")\n",
    "print(myName.lower())\n",
    "\n",
    "#10 It returns true if a string has at least one character and all characters are alphabetic, and false otherwise.\n",
    "print(\"\\n10 It returns true if a string has at least one character and all characters are alphabetic, and false otherwise.\")\n",
    "print(myName.isalpha())\n",
    "\n",
    "#11  isalnum() doesn't take any parameters.\n",
    "# True if all characters in the string are alphanumeric\n",
    "# False if at least one character is not alphanumeric\n",
    "print(\"\\n11 isalnum() doesn't take any parameters\")\n",
    "print(myName.isalnum())\n",
    "\n",
    "#12 Returns a character which is alphabetically the highest character in the string.\n",
    "print(\"\\n12 Returns a character which is alphabetically the highest character in the string.\")\n",
    "print(max(myName))\n",
    "\n",
    "#13 replace() \n",
    "print(\"\\n13 replace a word\")\n",
    "'Happy New year'.replace(\"Happy\", 'Brilliant')"
   ]
  },
  {
   "cell_type": "code",
   "execution_count": 14,
   "metadata": {},
   "outputs": [
    {
     "name": "stdout",
     "output_type": "stream",
     "text": [
      "\n",
      "14 How to delete a string?\n",
      "program\n"
     ]
    },
    {
     "ename": "NameError",
     "evalue": "name 'my_string' is not defined",
     "output_type": "error",
     "traceback": [
      "\u001b[1;31m---------------------------------------------------------------------------\u001b[0m",
      "\u001b[1;31mNameError\u001b[0m                                 Traceback (most recent call last)",
      "\u001b[1;32m<ipython-input-14-4dc30bb11d82>\u001b[0m in \u001b[0;36m<module>\u001b[1;34m\u001b[0m\n\u001b[0;32m      4\u001b[0m \u001b[0mprint\u001b[0m\u001b[1;33m(\u001b[0m\u001b[0mmy_string\u001b[0m\u001b[1;33m)\u001b[0m\u001b[1;33m\u001b[0m\u001b[1;33m\u001b[0m\u001b[0m\n\u001b[0;32m      5\u001b[0m \u001b[1;32mdel\u001b[0m \u001b[0mmy_string\u001b[0m\u001b[1;33m\u001b[0m\u001b[1;33m\u001b[0m\u001b[0m\n\u001b[1;32m----> 6\u001b[1;33m \u001b[0mprint\u001b[0m\u001b[1;33m(\u001b[0m\u001b[0mmy_string\u001b[0m\u001b[1;33m)\u001b[0m\u001b[1;33m\u001b[0m\u001b[1;33m\u001b[0m\u001b[0m\n\u001b[0m",
      "\u001b[1;31mNameError\u001b[0m: name 'my_string' is not defined"
     ]
    }
   ],
   "source": [
    "#14 How to delete a string?\n",
    "print(\"\\n14 How to delete a string?\")\n",
    "my_string = 'program'\n",
    "print(my_string)\n",
    "del my_string\n",
    "print(my_string)"
   ]
  },
  {
   "cell_type": "code",
   "execution_count": 15,
   "metadata": {},
   "outputs": [
    {
     "name": "stdout",
     "output_type": "stream",
     "text": [
      "\n",
      "15 The enumerate() function returns an enumerate object. It contains the index and value of all the items in the string as pairs.\n",
      "list(enumerate(str)=  [(0, 'c'), (1, 'o'), (2, 'l'), (3, 'd')]\n"
     ]
    }
   ],
   "source": [
    "#15 The enumerate() function returns an enumerate object. It contains the index and value of all the items in the string as pairs.\n",
    "print(\"\\n15 The enumerate() function returns an enumerate object. It contains the index and value of all the items in the string as pairs.\")\n",
    "str = 'cold'\n",
    "\n",
    "list_enumerate = list(enumerate(str))\n",
    "print('list(enumerate(str)= ',list_enumerate)"
   ]
  },
  {
   "cell_type": "markdown",
   "metadata": {},
   "source": [
    "Question 3:\n",
    "\n",
    "Write a Python program to check if the given string is a Palindrome or Anagram or None of them.\n",
    "Display the message accordingly to the user."
   ]
  },
  {
   "cell_type": "code",
   "execution_count": 16,
   "metadata": {},
   "outputs": [
    {
     "name": "stdout",
     "output_type": "stream",
     "text": [
      "enter a string muneer\n",
      "enter a string mnueer\n",
      "Anagram\n"
     ]
    }
   ],
   "source": [
    "string=input(\"enter a string \")\n",
    "for i in range(0,int(len(string)/2)):\n",
    "    if(string[i]==string[len(string)-i-1]):\n",
    "        print(\"Palindrome\")\n",
    "        break\n",
    "else:\n",
    "    string2=input(\"enter a string \")\n",
    "    str1=sorted(string)\n",
    "    str2=sorted(string2)\n",
    "    if(str1==str2):\n",
    "        print(\"Anagram\")\n",
    "    else:\n",
    "        print(\"none\")"
   ]
  },
  {
   "cell_type": "markdown",
   "metadata": {},
   "source": [
    "Question 4:\n",
    "\n",
    "Write a Python's user defined function that removes all the additional characters from the string\n",
    "and converts it finally to lower case using built-in lower(). eg: If the string is \"Dr. Darshan Ingle\n",
    "@AI-ML Trainer\", then the output be \"drdarshaningleaimltrainer\"."
   ]
  },
  {
   "cell_type": "code",
   "execution_count": 17,
   "metadata": {},
   "outputs": [
    {
     "name": "stdout",
     "output_type": "stream",
     "text": [
      "String is : Dr. Darshan Ingle @AI-ML Trainer\n",
      "After removing all special characters from String\n",
      "Resultant string is:  drdarshaningleaimltrainer\n"
     ]
    }
   ],
   "source": [
    "def replace_char(y):\n",
    "    invalid_list = ['!','@','#','$','%','^','&','*','(',')','+','_','?',',',':',';','-','.',' ']\n",
    "    for i in invalid_list:\n",
    "        y = y.replace(i,'')\n",
    "        y = y.lower()\n",
    "    print(\"After removing all special characters from String\")\n",
    "    print(\"Resultant string is: \",y)\n",
    "    \n",
    "string_5 = \"Dr. Darshan Ingle @AI-ML Trainer\"\n",
    "print(\"String is :\",string_5)\n",
    "replace_char(string_5)"
   ]
  },
  {
   "cell_type": "code",
   "execution_count": null,
   "metadata": {},
   "outputs": [],
   "source": []
  }
 ],
 "metadata": {
  "kernelspec": {
   "display_name": "Python 3",
   "language": "python",
   "name": "python3"
  },
  "language_info": {
   "codemirror_mode": {
    "name": "ipython",
    "version": 3
   },
   "file_extension": ".py",
   "mimetype": "text/x-python",
   "name": "python",
   "nbconvert_exporter": "python",
   "pygments_lexer": "ipython3",
   "version": "3.7.6"
  }
 },
 "nbformat": 4,
 "nbformat_minor": 4
}
