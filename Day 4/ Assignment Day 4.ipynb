{
 "cells": [
  {
   "cell_type": "markdown",
   "metadata": {},
   "source": [
    "# Assignment Day 4 | 9th July 2020"
   ]
  },
  {
   "cell_type": "markdown",
   "metadata": {},
   "source": [
    "Question 1 :\n",
    "\n",
    "Research on whether addition, subtraction, multiplication, division, floor division and modulo\n",
    "operations be performed on complex numbers. Based on your study, implement a Python\n",
    "program to demonstrate these operations."
   ]
  },
  {
   "cell_type": "markdown",
   "metadata": {},
   "source": [
    "### Addition:\n",
    "add the complex numbers 3 + 2i and 1 + 7i\n",
    "\n",
    "add the real numbers, and add the imaginary numbers: (3 + 2i) + (1 + 7i) = 3 + 1 + (2 + 7)i = 4 + 9i\n",
    "\n",
    "### subtraction:\n",
    "Subtraction let z1 = 6 + 4i and z2 = -7 + 5i, then\n",
    "\n",
    "z1 - z2 = (6 + 4i) - (-7 + 5i)\n",
    "\n",
    "= (6 + 4i) + (7 - 5i) = (6 + 7) + (4 - 5)i\n",
    "\n",
    "= 13 - i\n",
    "\n",
    "### Multiplicatio:\n",
    "Multiplying To multiply complex numbers:\n",
    "\n",
    "Each part of the first complex number gets multiplied by each part of the second complex number\n",
    "\n",
    "(a+bi)(c+di) = (ac−bd) + (ad+bc)i\n",
    "\n",
    "Example: (3 + 2i)(1 + 7i) = (3×1 − 2×7) + (3×7 + 2×1)i = −11 + 23i\n",
    "\n",
    "### Division:\n",
    "Dividing The conjugate is used to help complex division.\n",
    "\n",
    "The trick is to multiply both top and bottom by the conjugate of the bottom.\n",
    "\n",
    "(2 + 3i) / (4 − 5i) ultiply top and bottom by the conjugate of 4 − 5i :\n",
    "\n",
    "(2 + 3i) / (4 − 5i) * (4 + 5i) / (4 + 5i)\n",
    "\n",
    "### Floor Division:\n",
    "floor division (2 + 3i) // (complex anything) will throw an error.\n",
    "\n",
    "### Modulo:\n",
    "Modulo of a Complex Number:\n",
    "\n",
    "The % symbol in Python is called the Modulo Operator. \n",
    "It gives remainder for the integer value. wont work for complex number\n"
   ]
  },
  {
   "cell_type": "code",
   "execution_count": 7,
   "metadata": {},
   "outputs": [
    {
     "name": "stdout",
     "output_type": "stream",
     "text": [
      "(13-13j)\n",
      "(3-5j)\n",
      "(4-77j)\n",
      "(1.853658536585366-0.3170731707317073j)\n"
     ]
    }
   ],
   "source": [
    "a = complex(8, -9)\n",
    "b = complex(5, -4)\n",
    "\n",
    "# Addition\n",
    "c = a + b\n",
    "print(c)\n",
    "\n",
    "#subtraction\n",
    "c = a - b\n",
    "print(c)\n",
    "\n",
    "# Multiplication\n",
    "c = a * b\n",
    "print(c)\n",
    "\n",
    "# Division\n",
    "c = a / b\n",
    "print(c)"
   ]
  },
  {
   "cell_type": "code",
   "execution_count": 2,
   "metadata": {},
   "outputs": [
    {
     "ename": "TypeError",
     "evalue": "can't take floor of complex number.",
     "output_type": "error",
     "traceback": [
      "\u001b[1;31m---------------------------------------------------------------------------\u001b[0m",
      "\u001b[1;31mTypeError\u001b[0m                                 Traceback (most recent call last)",
      "\u001b[1;32m<ipython-input-2-4c1982facf6f>\u001b[0m in \u001b[0;36m<module>\u001b[1;34m\u001b[0m\n\u001b[0;32m      1\u001b[0m \u001b[1;31m# Floor Division\u001b[0m\u001b[1;33m\u001b[0m\u001b[1;33m\u001b[0m\u001b[1;33m\u001b[0m\u001b[0m\n\u001b[0;32m      2\u001b[0m \u001b[1;33m\u001b[0m\u001b[0m\n\u001b[1;32m----> 3\u001b[1;33m \u001b[0mc\u001b[0m \u001b[1;33m=\u001b[0m \u001b[0ma\u001b[0m \u001b[1;33m//\u001b[0m \u001b[0mb\u001b[0m\u001b[1;33m\u001b[0m\u001b[1;33m\u001b[0m\u001b[0m\n\u001b[0m\u001b[0;32m      4\u001b[0m \u001b[0mprint\u001b[0m\u001b[1;33m(\u001b[0m\u001b[0mc\u001b[0m\u001b[1;33m)\u001b[0m\u001b[1;33m\u001b[0m\u001b[1;33m\u001b[0m\u001b[0m\n",
      "\u001b[1;31mTypeError\u001b[0m: can't take floor of complex number."
     ]
    }
   ],
   "source": [
    "# Floor Division\n",
    "\n",
    "c = a // b\n",
    "print(c)"
   ]
  },
  {
   "cell_type": "markdown",
   "metadata": {},
   "source": [
    "Question 2 :\n",
    "\n",
    "Research on range() functions and its parameters. Create a markdown cell and write in your own\n",
    "words (no copy-paste from google please) what you understand about it. Implement a small\n",
    "program of your choice on the same."
   ]
  },
  {
   "cell_type": "markdown",
   "metadata": {},
   "source": [
    "Python range()\n",
    "\n",
    "The range() type returns an immutable sequence of numbers between the given start integer to the stop integer\n",
    "\n",
    "range(stop)\n",
    "\n",
    "range(start, stop)\n",
    "\n",
    "range(start, stop, step-size])"
   ]
  },
  {
   "cell_type": "code",
   "execution_count": 3,
   "metadata": {},
   "outputs": [
    {
     "name": "stdout",
     "output_type": "stream",
     "text": [
      "0\n",
      "1\n",
      "2\n",
      "3\n",
      "4\n",
      "5\n",
      "6\n",
      "7\n",
      "8\n",
      "9\n",
      "10\n",
      "11\n",
      "12\n",
      "13\n",
      "14\n",
      "15\n",
      "16\n",
      "17\n",
      "18\n",
      "19\n",
      "5\n",
      "6\n",
      "7\n",
      "8\n",
      "9\n",
      "10\n",
      "11\n",
      "12\n",
      "13\n",
      "14\n",
      "15\n",
      "16\n",
      "17\n",
      "18\n",
      "19\n",
      "10\n",
      "12\n",
      "14\n",
      "16\n",
      "18\n"
     ]
    }
   ],
   "source": [
    "# Python Program to show range() basics \n",
    "for i in range(20):\n",
    "    print(i)\n",
    "    \n",
    "for i in range(5, 20):\n",
    "    print(i)\n",
    "        \n",
    "for i in range(10, 20, 2):\n",
    "    print(i)"
   ]
  },
  {
   "cell_type": "markdown",
   "metadata": {},
   "source": [
    "Question 3:\n",
    "    \n",
    "Consider two numbers. Perform their subtraction and if the result of subtraction is greater than\n",
    "25, print their multiplication result else print their division result."
   ]
  },
  {
   "cell_type": "code",
   "execution_count": 4,
   "metadata": {},
   "outputs": [
    {
     "name": "stdout",
     "output_type": "stream",
     "text": [
      "The number is greater than 25:  30\n",
      "Product of a & b:  175\n"
     ]
    }
   ],
   "source": [
    "a = 35\n",
    "b = 5\n",
    "\n",
    "c = a - b\n",
    "\n",
    "if c > 25:\n",
    "    print(\"The number is greater than 25: \", c)\n",
    "    print(\"Product of a & b: \", a * b)\n",
    "else:\n",
    "    print(\"The number is less than 25: \", c)\n",
    "    print(\"Division of a & b: \",a / b)"
   ]
  },
  {
   "cell_type": "markdown",
   "metadata": {},
   "source": [
    "Question 4:\n",
    "    \n",
    "Consider a list of 10 elements of integer values. If the number in the list is divisible by 2, print the\n",
    "result as \"square of that number minus 2\"."
   ]
  },
  {
   "cell_type": "code",
   "execution_count": 5,
   "metadata": {},
   "outputs": [
    {
     "name": "stdout",
     "output_type": "stream",
     "text": [
      "2\n",
      "square of the number 2 minus 2:  2\n",
      "4\n",
      "square of the number 4 minus 2:  14\n",
      "8\n",
      "square of the number 8 minus 2:  62\n",
      "20\n",
      "square of the number 20 minus 2:  398\n",
      "46\n",
      "square of the number 46 minus 2:  2114\n",
      "100\n",
      "square of the number 100 minus 2:  9998\n"
     ]
    }
   ],
   "source": [
    "l = [2, 4, 5, 8, 7, 20, 15, 46, 55, 100]\n",
    "\n",
    "for i in l:\n",
    "    if i % 2 == 0:\n",
    "        print(i)\n",
    "        c = i * i - 2\n",
    "        print(\"square of the number {} minus 2: \".format(i), c)"
   ]
  },
  {
   "cell_type": "markdown",
   "metadata": {},
   "source": [
    "Question 5:\n",
    "\n",
    "Consider a list of 10 elements. Print all the elements in the list which are greater than 7 when that\n",
    "number is divided 2."
   ]
  },
  {
   "cell_type": "code",
   "execution_count": 8,
   "metadata": {},
   "outputs": [
    {
     "name": "stdout",
     "output_type": "stream",
     "text": [
      "Elements which are greater than 7 after dividing by 2: \n",
      "34\n",
      "55\n",
      "68\n",
      "78\n"
     ]
    }
   ],
   "source": [
    "lst = [2, 3 ,4, 5, 8, 11, 34, 55, 68, 78]\n",
    "print(\"Elements which are greater than 7 after dividing by 2: \")  \n",
    "for i in lst: \n",
    "    \n",
    "    if i / 2>7:\n",
    "           \n",
    "        print(i)"
   ]
  },
  {
   "cell_type": "code",
   "execution_count": null,
   "metadata": {},
   "outputs": [],
   "source": []
  }
 ],
 "metadata": {
  "kernelspec": {
   "display_name": "Python 3",
   "language": "python",
   "name": "python3"
  },
  "language_info": {
   "codemirror_mode": {
    "name": "ipython",
    "version": 3
   },
   "file_extension": ".py",
   "mimetype": "text/x-python",
   "name": "python",
   "nbconvert_exporter": "python",
   "pygments_lexer": "ipython3",
   "version": "3.7.6"
  }
 },
 "nbformat": 4,
 "nbformat_minor": 4
}
